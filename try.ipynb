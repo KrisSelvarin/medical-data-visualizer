{
 "cells": [
  {
   "cell_type": "code",
   "execution_count": null,
   "id": "e82214e3",
   "metadata": {},
   "outputs": [],
   "source": [
    "import numpy as np\n",
    "import pandas as pd\n",
    "import matplotlib.pyplot as plt\n",
    "import seaborn as sns\n",
    "\n",
    "%matplotlib inline\n",
    "%reload_ext autoreload\n",
    "%autoreload 2"
   ]
  },
  {
   "cell_type": "code",
   "execution_count": null,
   "id": "fa423cf2",
   "metadata": {},
   "outputs": [],
   "source": [
    "df = pd.read_csv('medical_examination.csv')\n",
    "df"
   ]
  },
  {
   "cell_type": "code",
   "execution_count": null,
   "id": "57ad736c",
   "metadata": {},
   "outputs": [],
   "source": [
    "# converting height to meters\n",
    "df['height'] = df['height'] / 100"
   ]
  },
  {
   "cell_type": "code",
   "execution_count": null,
   "id": "44b2123e",
   "metadata": {},
   "outputs": [],
   "source": [
    "df['overweight'] = np.where(((df['weight']) / (df['height'] ** 2)) > 25, 1, 0)"
   ]
  },
  {
   "cell_type": "code",
   "execution_count": null,
   "id": "76e3c79b",
   "metadata": {},
   "outputs": [],
   "source": [
    "df.loc[df['overweight'] == 1]"
   ]
  },
  {
   "cell_type": "code",
   "execution_count": null,
   "id": "3c3cd818",
   "metadata": {},
   "outputs": [],
   "source": [
    "df['cholesterol'] = np.where((df['cholesterol']) == 1, 0, 1)\n",
    "df['gluc'] = np.where((df['gluc']) == 1, 0, 1)\n",
    "df"
   ]
  },
  {
   "cell_type": "code",
   "execution_count": null,
   "id": "25045da5",
   "metadata": {},
   "outputs": [],
   "source": [
    "melt = ['cholesterol', 'gluc', 'smoke', 'alco', 'active', 'overweight']\n",
    "df_cat = pd.melt(df, id_vars=['cardio'], value_vars=melt, var_name='variable', value_name='value')\n",
    "df_cat"
   ]
  },
  {
   "cell_type": "code",
   "execution_count": null,
   "id": "55e49af2",
   "metadata": {},
   "outputs": [],
   "source": [
    "df_cat.loc[(df_cat['cardio'] == 0) & (df_cat['variable'] == 'cholesterol') & (df_cat['value'] == 1)]"
   ]
  },
  {
   "cell_type": "code",
   "execution_count": null,
   "id": "99c59da9",
   "metadata": {},
   "outputs": [],
   "source": [
    "df_cat = df_cat.groupby(['cardio', 'variable', 'value']).size().reset_index(name='total')\n",
    "df_cat"
   ]
  },
  {
   "cell_type": "code",
   "execution_count": null,
   "id": "0790231d",
   "metadata": {},
   "outputs": [],
   "source": [
    "figure = sns.catplot(\n",
    "    data=df_cat,\n",
    "    x='variable',\n",
    "    y='total',\n",
    "    hue='value',\n",
    "    col='cardio',\n",
    "    kind='bar'\n",
    ")\n",
    "fig = figure\n",
    "fig"
   ]
  },
  {
   "cell_type": "code",
   "execution_count": null,
   "id": "d07f0691",
   "metadata": {},
   "outputs": [],
   "source": [
    "df.head()"
   ]
  },
  {
   "cell_type": "code",
   "execution_count": null,
   "id": "8c2cf626",
   "metadata": {},
   "outputs": [],
   "source": [
    "df_heat = df[\n",
    "    (df['ap_lo'] <= df['ap_hi']) &\n",
    "    (df['height'] >= df['height'].quantile(0.025)) &\n",
    "    (df['height'] <= df['height'].quantile(0.975)) &\n",
    "    (df['weight'] >= df['weight'].quantile(0.025)) &\n",
    "    (df['weight'] <= df['weight'].quantile(0.975))\n",
    "]\n",
    "df_heat"
   ]
  },
  {
   "cell_type": "code",
   "execution_count": null,
   "id": "e2fa6624",
   "metadata": {},
   "outputs": [],
   "source": [
    "corr = df_heat.corr()"
   ]
  },
  {
   "cell_type": "code",
   "execution_count": null,
   "id": "a680ca73",
   "metadata": {},
   "outputs": [],
   "source": [
    "mask = np.triu(np.ones_like(corr, dtype=bool))"
   ]
  },
  {
   "cell_type": "code",
   "execution_count": null,
   "id": "ff7ca67f",
   "metadata": {},
   "outputs": [],
   "source": [
    "plt.close('all')\n",
    "fig, ax = plt.subplots(figsize=(12,10))\n",
    "sns.heatmap(\n",
    "    corr,\n",
    "    mask=mask,\n",
    "    annot=True,\n",
    "    fmt=\".1f\",  # forces \"0.0\" style\n",
    "    center=0,\n",
    "    square=True,\n",
    "    linewidths=0.5,\n",
    "    cbar_kws={\"shrink\": 0.5},\n",
    "    ax=ax\n",
    ")"
   ]
  }
 ],
 "metadata": {
  "kernelspec": {
   "display_name": "Python 3",
   "language": "python",
   "name": "python3"
  },
  "language_info": {
   "codemirror_mode": {
    "name": "ipython",
    "version": 3
   },
   "file_extension": ".py",
   "mimetype": "text/x-python",
   "name": "python",
   "nbconvert_exporter": "python",
   "pygments_lexer": "ipython3",
   "version": "3.13.5"
  }
 },
 "nbformat": 4,
 "nbformat_minor": 5
}
